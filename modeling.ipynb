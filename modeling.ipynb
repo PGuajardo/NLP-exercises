{
 "cells": [
  {
   "cell_type": "code",
   "execution_count": 2,
   "id": "6dc6cb3e",
   "metadata": {},
   "outputs": [],
   "source": [
    "from pprint import pprint\n",
    "import pandas as pd\n",
    "import numpy as np\n",
    "\n",
    "import matplotlib as plt\n",
    "import prepare_codeup\n",
    "\n",
    "import acquire_codeup"
   ]
  },
  {
   "cell_type": "code",
   "execution_count": 20,
   "id": "46c8e0b4",
   "metadata": {},
   "outputs": [
    {
     "name": "stderr",
     "output_type": "stream",
     "text": [
      "/Users/pj/Desktop/codeup-data-science/NLP-exercises/acquire_codeup.py:68: GuessedAtParserWarning: No parser was explicitly specified, so I'm using the best available HTML parser for this system (\"lxml\"). This usually isn't a problem, but if you run this code on another system, or in a different virtual environment, it may use a different parser and behave differently.\n",
      "\n",
      "The code that caused this warning is on line 68 of the file /Users/pj/Desktop/codeup-data-science/NLP-exercises/acquire_codeup.py. To get rid of this warning, pass the additional argument 'features=\"lxml\"' to the BeautifulSoup constructor.\n",
      "\n",
      "  soup = BeautifulSoup(response.text)\n"
     ]
    }
   ],
   "source": [
    "df = acquire_codeup.get_inshorts_articles()"
   ]
  },
  {
   "cell_type": "code",
   "execution_count": 21,
   "id": "80443bd2",
   "metadata": {},
   "outputs": [
    {
     "data": {
      "text/html": [
       "<div>\n",
       "<style scoped>\n",
       "    .dataframe tbody tr th:only-of-type {\n",
       "        vertical-align: middle;\n",
       "    }\n",
       "\n",
       "    .dataframe tbody tr th {\n",
       "        vertical-align: top;\n",
       "    }\n",
       "\n",
       "    .dataframe thead th {\n",
       "        text-align: right;\n",
       "    }\n",
       "</style>\n",
       "<table border=\"1\" class=\"dataframe\">\n",
       "  <thead>\n",
       "    <tr style=\"text-align: right;\">\n",
       "      <th></th>\n",
       "      <th>title</th>\n",
       "      <th>author</th>\n",
       "      <th>content</th>\n",
       "      <th>date</th>\n",
       "      <th>category</th>\n",
       "    </tr>\n",
       "  </thead>\n",
       "  <tbody>\n",
       "    <tr>\n",
       "      <th>0</th>\n",
       "      <td>LIC files draft papers with SEBI to seek appro...</td>\n",
       "      <td>Pragya Swastik</td>\n",
       "      <td>State-run Life Insurance Corporation of India ...</td>\n",
       "      <td>13 Feb 2022,Sunday</td>\n",
       "      <td>business</td>\n",
       "    </tr>\n",
       "    <tr>\n",
       "      <th>1</th>\n",
       "      <td>13-yr-old girl gets ₹50 lakh funding on Shark ...</td>\n",
       "      <td>Ridham Gambhir</td>\n",
       "      <td>A Class 8 girl became the youngest contestant ...</td>\n",
       "      <td>13 Feb 2022,Sunday</td>\n",
       "      <td>business</td>\n",
       "    </tr>\n",
       "    <tr>\n",
       "      <th>2</th>\n",
       "      <td>Mamaearth's parent company Honasa Consumer acq...</td>\n",
       "      <td>Pragya Swastik</td>\n",
       "      <td>Mamaearth's parent company Honasa Consumer Pri...</td>\n",
       "      <td>14 Feb 2022,Monday</td>\n",
       "      <td>business</td>\n",
       "    </tr>\n",
       "    <tr>\n",
       "      <th>3</th>\n",
       "      <td>What is the ₹22,842 cr ABG Shipyard case, bigg...</td>\n",
       "      <td>Pragya Swastik</td>\n",
       "      <td>The CBI in its biggest bank fraud case booked ...</td>\n",
       "      <td>13 Feb 2022,Sunday</td>\n",
       "      <td>business</td>\n",
       "    </tr>\n",
       "    <tr>\n",
       "      <th>4</th>\n",
       "      <td>Retail inflation rises to 7-month-high of 6.01...</td>\n",
       "      <td>Pragya Swastik</td>\n",
       "      <td>The retail inflation accelerated to a seven-mo...</td>\n",
       "      <td>14 Feb 2022,Monday</td>\n",
       "      <td>business</td>\n",
       "    </tr>\n",
       "  </tbody>\n",
       "</table>\n",
       "</div>"
      ],
      "text/plain": [
       "                                               title          author  \\\n",
       "0  LIC files draft papers with SEBI to seek appro...  Pragya Swastik   \n",
       "1  13-yr-old girl gets ₹50 lakh funding on Shark ...  Ridham Gambhir   \n",
       "2  Mamaearth's parent company Honasa Consumer acq...  Pragya Swastik   \n",
       "3  What is the ₹22,842 cr ABG Shipyard case, bigg...  Pragya Swastik   \n",
       "4  Retail inflation rises to 7-month-high of 6.01...  Pragya Swastik   \n",
       "\n",
       "                                             content                date  \\\n",
       "0  State-run Life Insurance Corporation of India ...  13 Feb 2022,Sunday   \n",
       "1  A Class 8 girl became the youngest contestant ...  13 Feb 2022,Sunday   \n",
       "2  Mamaearth's parent company Honasa Consumer Pri...  14 Feb 2022,Monday   \n",
       "3  The CBI in its biggest bank fraud case booked ...  13 Feb 2022,Sunday   \n",
       "4  The retail inflation accelerated to a seven-mo...  14 Feb 2022,Monday   \n",
       "\n",
       "   category  \n",
       "0  business  \n",
       "1  business  \n",
       "2  business  \n",
       "3  business  \n",
       "4  business  "
      ]
     },
     "execution_count": 21,
     "metadata": {},
     "output_type": "execute_result"
    }
   ],
   "source": [
    "df.head()"
   ]
  },
  {
   "cell_type": "code",
   "execution_count": 22,
   "id": "87f149f8",
   "metadata": {},
   "outputs": [],
   "source": [
    "clean_content = pd.DataFrame([prepare_codeup.basic_clean(i) for i in df.content])\n",
    "\n",
    "df['clean'] = clean_content"
   ]
  },
  {
   "cell_type": "code",
   "execution_count": 23,
   "id": "7d1b5c80",
   "metadata": {},
   "outputs": [],
   "source": [
    "lemmy_clean = pd.DataFrame([prepare_codeup.lemmatize(i) for i in df.clean])\n",
    "df['lemmatized'] = lemmy_clean"
   ]
  },
  {
   "cell_type": "code",
   "execution_count": 24,
   "id": "4b20f05a",
   "metadata": {},
   "outputs": [],
   "source": [
    "from sklearn.feature_extraction.text import TfidfVectorizer"
   ]
  },
  {
   "cell_type": "code",
   "execution_count": 26,
   "id": "6d64b479",
   "metadata": {},
   "outputs": [],
   "source": [
    "tfidf = TfidfVectorizer()\n",
    "X = tfidf.fit_transform(df.lemmatized)\n",
    "y = df.category"
   ]
  },
  {
   "cell_type": "code",
   "execution_count": 36,
   "id": "f9f455af",
   "metadata": {},
   "outputs": [],
   "source": [
    "df = pd.DataFrame(dict(actual = y))"
   ]
  },
  {
   "cell_type": "code",
   "execution_count": 34,
   "id": "d7a9b314",
   "metadata": {},
   "outputs": [],
   "source": [
    "from sklearn.ensemble import RandomForestClassifier\n",
    "from sklearn.metrics import classification_report, accuracy_score"
   ]
  },
  {
   "cell_type": "code",
   "execution_count": 37,
   "id": "17803dca",
   "metadata": {},
   "outputs": [],
   "source": [
    "rf = RandomForestClassifier(max_depth = 6)"
   ]
  },
  {
   "cell_type": "code",
   "execution_count": 38,
   "id": "17b580d1",
   "metadata": {},
   "outputs": [],
   "source": [
    "rf = rf.fit(X,y)"
   ]
  },
  {
   "cell_type": "code",
   "execution_count": 39,
   "id": "b0119793",
   "metadata": {},
   "outputs": [],
   "source": [
    "df['predicted'] = rf.predict(X)"
   ]
  },
  {
   "cell_type": "code",
   "execution_count": 40,
   "id": "e92604d0",
   "metadata": {},
   "outputs": [
    {
     "name": "stdout",
     "output_type": "stream",
     "text": [
      "Accuracy: 98.00%\n",
      "---\n",
      "Confusion Matrix\n",
      "actual         business  entertainment  sports  technology\n",
      "predicted                                                 \n",
      "business             25              1       0           1\n",
      "entertainment         0             24       0           0\n",
      "sports                0              0      25           0\n",
      "technology            0              0       0          24\n",
      "---\n",
      "               precision    recall  f1-score   support\n",
      "\n",
      "     business       0.93      1.00      0.96        25\n",
      "entertainment       1.00      0.96      0.98        25\n",
      "       sports       1.00      1.00      1.00        25\n",
      "   technology       1.00      0.96      0.98        25\n",
      "\n",
      "     accuracy                           0.98       100\n",
      "    macro avg       0.98      0.98      0.98       100\n",
      " weighted avg       0.98      0.98      0.98       100\n",
      "\n"
     ]
    }
   ],
   "source": [
    "print('Accuracy: {:.2%}'.format(accuracy_score(df.actual, df.predicted)))\n",
    "print('---')\n",
    "print('Confusion Matrix')\n",
    "print(pd.crosstab(df.predicted, df.actual))\n",
    "print('---')\n",
    "print(classification_report(df.actual, df.predicted))"
   ]
  },
  {
   "cell_type": "code",
   "execution_count": 41,
   "id": "8a93d4b6",
   "metadata": {},
   "outputs": [
    {
     "name": "stderr",
     "output_type": "stream",
     "text": [
      "/Users/pj/Desktop/codeup-data-science/NLP-exercises/acquire_codeup.py:68: GuessedAtParserWarning: No parser was explicitly specified, so I'm using the best available HTML parser for this system (\"lxml\"). This usually isn't a problem, but if you run this code on another system, or in a different virtual environment, it may use a different parser and behave differently.\n",
      "\n",
      "The code that caused this warning is on line 68 of the file /Users/pj/Desktop/codeup-data-science/NLP-exercises/acquire_codeup.py. To get rid of this warning, pass the additional argument 'features=\"lxml\"' to the BeautifulSoup constructor.\n",
      "\n",
      "  soup = BeautifulSoup(response.text)\n"
     ]
    }
   ],
   "source": [
    "df = acquire_codeup.get_inshorts_articles()\n",
    "clean_content = pd.DataFrame([prepare_codeup.basic_clean(i) for i in df.content])\n",
    "\n",
    "df['clean'] = clean_content\n",
    "\n",
    "lemmy_clean = pd.DataFrame([prepare_codeup.lemmatize(i) for i in df.clean])\n",
    "df['lemmatized'] = lemmy_clean"
   ]
  },
  {
   "cell_type": "code",
   "execution_count": 42,
   "id": "47ff365d",
   "metadata": {},
   "outputs": [
    {
     "data": {
      "text/html": [
       "<div>\n",
       "<style scoped>\n",
       "    .dataframe tbody tr th:only-of-type {\n",
       "        vertical-align: middle;\n",
       "    }\n",
       "\n",
       "    .dataframe tbody tr th {\n",
       "        vertical-align: top;\n",
       "    }\n",
       "\n",
       "    .dataframe thead th {\n",
       "        text-align: right;\n",
       "    }\n",
       "</style>\n",
       "<table border=\"1\" class=\"dataframe\">\n",
       "  <thead>\n",
       "    <tr style=\"text-align: right;\">\n",
       "      <th></th>\n",
       "      <th>title</th>\n",
       "      <th>author</th>\n",
       "      <th>content</th>\n",
       "      <th>date</th>\n",
       "      <th>category</th>\n",
       "      <th>clean</th>\n",
       "      <th>lemmatized</th>\n",
       "    </tr>\n",
       "  </thead>\n",
       "  <tbody>\n",
       "    <tr>\n",
       "      <th>0</th>\n",
       "      <td>LIC files draft papers with SEBI to seek appro...</td>\n",
       "      <td>Pragya Swastik</td>\n",
       "      <td>State-run Life Insurance Corporation of India ...</td>\n",
       "      <td>13 Feb 2022,Sunday</td>\n",
       "      <td>business</td>\n",
       "      <td>staterun life insurance corporation of india l...</td>\n",
       "      <td>staterun life insurance corporation of india l...</td>\n",
       "    </tr>\n",
       "    <tr>\n",
       "      <th>1</th>\n",
       "      <td>13-yr-old girl gets ₹50 lakh funding on Shark ...</td>\n",
       "      <td>Ridham Gambhir</td>\n",
       "      <td>A Class 8 girl became the youngest contestant ...</td>\n",
       "      <td>13 Feb 2022,Sunday</td>\n",
       "      <td>business</td>\n",
       "      <td>a class 8 girl became the youngest contestant ...</td>\n",
       "      <td>a class 8 girl became the youngest contestant ...</td>\n",
       "    </tr>\n",
       "    <tr>\n",
       "      <th>2</th>\n",
       "      <td>Mamaearth's parent company Honasa Consumer acq...</td>\n",
       "      <td>Pragya Swastik</td>\n",
       "      <td>Mamaearth's parent company Honasa Consumer Pri...</td>\n",
       "      <td>14 Feb 2022,Monday</td>\n",
       "      <td>business</td>\n",
       "      <td>mamaearth's parent company honasa consumer pri...</td>\n",
       "      <td>mamaearth's parent company honasa consumer pri...</td>\n",
       "    </tr>\n",
       "    <tr>\n",
       "      <th>3</th>\n",
       "      <td>Retail inflation rises to 7-month-high of 6.01...</td>\n",
       "      <td>Pragya Swastik</td>\n",
       "      <td>The retail inflation accelerated to a seven-mo...</td>\n",
       "      <td>14 Feb 2022,Monday</td>\n",
       "      <td>business</td>\n",
       "      <td>the retail inflation accelerated to a sevenmon...</td>\n",
       "      <td>the retail inflation accelerated to a sevenmon...</td>\n",
       "    </tr>\n",
       "    <tr>\n",
       "      <th>4</th>\n",
       "      <td>What is the ₹22,842 cr ABG Shipyard case, bigg...</td>\n",
       "      <td>Pragya Swastik</td>\n",
       "      <td>The CBI in its biggest bank fraud case booked ...</td>\n",
       "      <td>13 Feb 2022,Sunday</td>\n",
       "      <td>business</td>\n",
       "      <td>the cbi in its biggest bank fraud case booked ...</td>\n",
       "      <td>the cbi in it biggest bank fraud case booked m...</td>\n",
       "    </tr>\n",
       "  </tbody>\n",
       "</table>\n",
       "</div>"
      ],
      "text/plain": [
       "                                               title          author  \\\n",
       "0  LIC files draft papers with SEBI to seek appro...  Pragya Swastik   \n",
       "1  13-yr-old girl gets ₹50 lakh funding on Shark ...  Ridham Gambhir   \n",
       "2  Mamaearth's parent company Honasa Consumer acq...  Pragya Swastik   \n",
       "3  Retail inflation rises to 7-month-high of 6.01...  Pragya Swastik   \n",
       "4  What is the ₹22,842 cr ABG Shipyard case, bigg...  Pragya Swastik   \n",
       "\n",
       "                                             content                date  \\\n",
       "0  State-run Life Insurance Corporation of India ...  13 Feb 2022,Sunday   \n",
       "1  A Class 8 girl became the youngest contestant ...  13 Feb 2022,Sunday   \n",
       "2  Mamaearth's parent company Honasa Consumer Pri...  14 Feb 2022,Monday   \n",
       "3  The retail inflation accelerated to a seven-mo...  14 Feb 2022,Monday   \n",
       "4  The CBI in its biggest bank fraud case booked ...  13 Feb 2022,Sunday   \n",
       "\n",
       "   category                                              clean  \\\n",
       "0  business  staterun life insurance corporation of india l...   \n",
       "1  business  a class 8 girl became the youngest contestant ...   \n",
       "2  business  mamaearth's parent company honasa consumer pri...   \n",
       "3  business  the retail inflation accelerated to a sevenmon...   \n",
       "4  business  the cbi in its biggest bank fraud case booked ...   \n",
       "\n",
       "                                          lemmatized  \n",
       "0  staterun life insurance corporation of india l...  \n",
       "1  a class 8 girl became the youngest contestant ...  \n",
       "2  mamaearth's parent company honasa consumer pri...  \n",
       "3  the retail inflation accelerated to a sevenmon...  \n",
       "4  the cbi in it biggest bank fraud case booked m...  "
      ]
     },
     "execution_count": 42,
     "metadata": {},
     "output_type": "execute_result"
    }
   ],
   "source": [
    "df.head()"
   ]
  },
  {
   "cell_type": "code",
   "execution_count": 44,
   "id": "b0a64977",
   "metadata": {},
   "outputs": [
    {
     "ename": "AttributeError",
     "evalue": "'list' object has no attribute 'head'",
     "output_type": "error",
     "traceback": [
      "\u001b[0;31m---------------------------------------------------------------------------\u001b[0m",
      "\u001b[0;31mAttributeError\u001b[0m                            Traceback (most recent call last)",
      "\u001b[0;32m<ipython-input-44-b61a4a47f802>\u001b[0m in \u001b[0;36m<module>\u001b[0;34m\u001b[0m\n\u001b[1;32m      1\u001b[0m \u001b[0mwords\u001b[0m \u001b[0;34m=\u001b[0m \u001b[0;34m[\u001b[0m\u001b[0mpd\u001b[0m\u001b[0;34m.\u001b[0m\u001b[0mSeries\u001b[0m\u001b[0;34m(\u001b[0m\u001b[0mi\u001b[0m\u001b[0;34m.\u001b[0m\u001b[0msplit\u001b[0m\u001b[0;34m(\u001b[0m\u001b[0;34m)\u001b[0m\u001b[0;34m)\u001b[0m \u001b[0;32mfor\u001b[0m \u001b[0mi\u001b[0m \u001b[0;32min\u001b[0m \u001b[0mdf\u001b[0m\u001b[0;34m.\u001b[0m\u001b[0mlemmatized\u001b[0m\u001b[0;34m]\u001b[0m\u001b[0;34m\u001b[0m\u001b[0;34m\u001b[0m\u001b[0m\n\u001b[0;32m----> 2\u001b[0;31m \u001b[0mwords\u001b[0m\u001b[0;34m.\u001b[0m\u001b[0mhead\u001b[0m\u001b[0;34m(\u001b[0m\u001b[0;34m)\u001b[0m\u001b[0;34m\u001b[0m\u001b[0;34m\u001b[0m\u001b[0m\n\u001b[0m",
      "\u001b[0;31mAttributeError\u001b[0m: 'list' object has no attribute 'head'"
     ]
    }
   ],
   "source": [
    "for i in df.lemmatized:\n",
    "    pd.Series(i.split()) \n"
   ]
  },
  {
   "cell_type": "code",
   "execution_count": null,
   "id": "7fd51590",
   "metadata": {},
   "outputs": [],
   "source": []
  }
 ],
 "metadata": {
  "kernelspec": {
   "display_name": "Python 3",
   "language": "python",
   "name": "python3"
  },
  "language_info": {
   "codemirror_mode": {
    "name": "ipython",
    "version": 3
   },
   "file_extension": ".py",
   "mimetype": "text/x-python",
   "name": "python",
   "nbconvert_exporter": "python",
   "pygments_lexer": "ipython3",
   "version": "3.8.8"
  }
 },
 "nbformat": 4,
 "nbformat_minor": 5
}
