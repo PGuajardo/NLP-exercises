{
 "cells": [
  {
   "cell_type": "code",
   "execution_count": 1,
   "id": "1e6f4670",
   "metadata": {},
   "outputs": [],
   "source": [
    "import re"
   ]
  },
  {
   "cell_type": "markdown",
   "id": "cc00d79f",
   "metadata": {},
   "source": [
    "# 1) Create is_vowel using regex expression"
   ]
  },
  {
   "cell_type": "code",
   "execution_count": 11,
   "id": "a5285a51",
   "metadata": {},
   "outputs": [],
   "source": [
    "def is_vowel(x):\n",
    "    if re.search(r\"a|e|i|o|u|A|E|I|O|U\",x) != None:\n",
    "        return \"Is vowel\"\n",
    "    else:\n",
    "        return \"Not a vowel\""
   ]
  },
  {
   "cell_type": "code",
   "execution_count": 12,
   "id": "3f21048c",
   "metadata": {},
   "outputs": [
    {
     "data": {
      "text/plain": [
       "<re.Match object; span=(0, 1), match='a'>"
      ]
     },
     "execution_count": 12,
     "metadata": {},
     "output_type": "execute_result"
    }
   ],
   "source": [
    "re.search(r\"a|e|i|o|u|A|E|I|O|U\", 'a')"
   ]
  },
  {
   "cell_type": "code",
   "execution_count": 14,
   "id": "a80365fc",
   "metadata": {},
   "outputs": [
    {
     "data": {
      "text/plain": [
       "'Not a vowel'"
      ]
     },
     "execution_count": 14,
     "metadata": {},
     "output_type": "execute_result"
    }
   ],
   "source": [
    "is_vowel('r')"
   ]
  },
  {
   "cell_type": "code",
   "execution_count": 15,
   "id": "facff8a5",
   "metadata": {},
   "outputs": [
    {
     "data": {
      "text/plain": [
       "'Is vowel'"
      ]
     },
     "execution_count": 15,
     "metadata": {},
     "output_type": "execute_result"
    }
   ],
   "source": [
    "is_vowel('A')"
   ]
  },
  {
   "cell_type": "code",
   "execution_count": 16,
   "id": "e84bf611",
   "metadata": {},
   "outputs": [],
   "source": [
    "# 2"
   ]
  },
  {
   "cell_type": "code",
   "execution_count": 174,
   "id": "3411b75a",
   "metadata": {},
   "outputs": [],
   "source": [
    "def is_valid_username(x):\n",
    "    if re.search(r\"^[a-z]{1}[a-z0-9_]{1,31}$\",x) != None:\n",
    "        return True\n",
    "    else:\n",
    "        return False"
   ]
  },
  {
   "cell_type": "code",
   "execution_count": 175,
   "id": "037d647a",
   "metadata": {},
   "outputs": [
    {
     "data": {
      "text/plain": [
       "True"
      ]
     },
     "execution_count": 175,
     "metadata": {},
     "output_type": "execute_result"
    }
   ],
   "source": [
    "is_valid_username('aaaaaaaa')"
   ]
  },
  {
   "cell_type": "code",
   "execution_count": 246,
   "id": "7e7a0def",
   "metadata": {},
   "outputs": [
    {
     "data": {
      "text/plain": [
       "True"
      ]
     },
     "execution_count": 246,
     "metadata": {},
     "output_type": "execute_result"
    }
   ],
   "source": [
    "is_valid_username('codeup123')"
   ]
  },
  {
   "cell_type": "code",
   "execution_count": 177,
   "id": "da1d5a6b",
   "metadata": {},
   "outputs": [
    {
     "data": {
      "text/plain": [
       "False"
      ]
     },
     "execution_count": 177,
     "metadata": {},
     "output_type": "execute_result"
    }
   ],
   "source": [
    "is_valid_username('&&&&fdf#')"
   ]
  },
  {
   "cell_type": "code",
   "execution_count": 178,
   "id": "43c6dad6",
   "metadata": {},
   "outputs": [
    {
     "data": {
      "text/plain": [
       "False"
      ]
     },
     "execution_count": 178,
     "metadata": {},
     "output_type": "execute_result"
    }
   ],
   "source": [
    "is_valid_username('Codeup')"
   ]
  },
  {
   "cell_type": "code",
   "execution_count": 180,
   "id": "5b0811fc",
   "metadata": {},
   "outputs": [
    {
     "data": {
      "text/plain": [
       "False"
      ]
     },
     "execution_count": 180,
     "metadata": {},
     "output_type": "execute_result"
    }
   ],
   "source": [
    "is_valid_username('aaaaaaaaaaaaaaaaaaaaaaaaaaaaaaaaa')"
   ]
  },
  {
   "cell_type": "markdown",
   "id": "d98658a8",
   "metadata": {},
   "source": [
    "# 3 phone number function"
   ]
  },
  {
   "cell_type": "code",
   "execution_count": 240,
   "id": "617afbef",
   "metadata": {},
   "outputs": [],
   "source": [
    "def is_phone_number(x):\n",
    "    if re.search(r\"(.?1?.?[0-9]{3}?.?)?[0-9]{3}.?[0-9]{4}\",x) != None:\n",
    "        return True\n",
    "    else:\n",
    "        return False"
   ]
  },
  {
   "cell_type": "code",
   "execution_count": 244,
   "id": "9b54b67e",
   "metadata": {},
   "outputs": [
    {
     "data": {
      "text/plain": [
       "True"
      ]
     },
     "execution_count": 244,
     "metadata": {},
     "output_type": "execute_result"
    }
   ],
   "source": [
    "is_phone_number('(210) 867 5309')"
   ]
  },
  {
   "cell_type": "code",
   "execution_count": 243,
   "id": "58c074d8",
   "metadata": {},
   "outputs": [
    {
     "data": {
      "text/plain": [
       "True"
      ]
     },
     "execution_count": 243,
     "metadata": {},
     "output_type": "execute_result"
    }
   ],
   "source": [
    "is_phone_number('+1 210.867.5309')"
   ]
  },
  {
   "cell_type": "code",
   "execution_count": 241,
   "id": "4dfa9055",
   "metadata": {},
   "outputs": [
    {
     "data": {
      "text/plain": [
       "True"
      ]
     },
     "execution_count": 241,
     "metadata": {},
     "output_type": "execute_result"
    }
   ],
   "source": [
    "is_phone_number('867.5309')"
   ]
  },
  {
   "cell_type": "code",
   "execution_count": 245,
   "id": "0576fb0d",
   "metadata": {},
   "outputs": [
    {
     "data": {
      "text/plain": [
       "True"
      ]
     },
     "execution_count": 245,
     "metadata": {},
     "output_type": "execute_result"
    }
   ],
   "source": [
    "is_phone_number('210-867-5309')"
   ]
  },
  {
   "cell_type": "markdown",
   "id": "37e7f02c",
   "metadata": {},
   "source": [
    "# 4) date function"
   ]
  },
  {
   "cell_type": "code",
   "execution_count": 254,
   "id": "1f5f2cb4",
   "metadata": {},
   "outputs": [],
   "source": [
    "def is_date(x):\n",
    "    date = r'([0-1]{1}[\\d]{1}).([\\d]{1}[\\d]){1}.([\\d]{1}[\\d]){1}'\n",
    "    month, day, year = re.search(date, x).groups()\n",
    "    return print(f'''month: {month}\\nday: {day}\\nyear: {year}''')"
   ]
  },
  {
   "cell_type": "code",
   "execution_count": 255,
   "id": "777df211",
   "metadata": {},
   "outputs": [
    {
     "name": "stdout",
     "output_type": "stream",
     "text": [
      "month: 02\n",
      "day: 04\n",
      "year: 19\n",
      "------------------\n",
      "month: 02\n",
      "day: 05\n",
      "year: 19\n",
      "------------------\n",
      "month: 02\n",
      "day: 06\n",
      "year: 19\n",
      "------------------\n",
      "month: 02\n",
      "day: 07\n",
      "year: 19\n",
      "------------------\n",
      "month: 02\n",
      "day: 08\n",
      "year: 19\n",
      "------------------\n",
      "month: 02\n",
      "day: 09\n",
      "year: 19\n",
      "------------------\n",
      "month: 02\n",
      "day: 10\n",
      "year: 19\n",
      "------------------\n"
     ]
    }
   ],
   "source": [
    "dates = ['02/04/19', '02/05/19', '02/06/19', '02/07/19', '02/08/19' ,'02/09/19' , '02/10/19']\n",
    "\n",
    "for i in dates:\n",
    "    is_date(i)\n",
    "    print('------------------')"
   ]
  },
  {
   "cell_type": "markdown",
   "id": "c98be3ae",
   "metadata": {},
   "source": [
    "# 5 extract logfile lines"
   ]
  },
  {
   "cell_type": "markdown",
   "id": "10a9773e",
   "metadata": {},
   "source": [
    "GET /api/v1/sales?page=86 [16/Apr/2019:193452+0000] HTTP/1.1 {200} 510348 \"python-requests/2.21.0\" 97.105.19.58\n",
    "\n",
    "POST /users_accounts/file-upload [16/Apr/2019:193452+0000] HTTP/1.1 {201} 42 \"User-Agent: Mozilla/5.0 (X11; Fedora; Fedora; Linux x86_64) AppleWebKit/537.36 (KHTML, like Gecko) Chrome/73.0.3683.86 Safari/537.36\" 97.105.19.58\n",
    "\n",
    "GET /api/v1/items?page=3 [16/Apr/2019:193453+0000] HTTP/1.1 {429} 3561 \"python-requests/2.21.0\" 97.105.19.58\n"
   ]
  },
  {
   "cell_type": "code",
   "execution_count": null,
   "id": "6308442d",
   "metadata": {},
   "outputs": [],
   "source": [
    "\n",
    "get_re = r'([A-Z]{3,4}) /(\\w+)/(\\w+)/(\\w+)\\?page=(\\d+)\\s(\\[([0-3]{1}[\\d]{1})/(\\w+)/(\\d+)\\:([0-2]{1}[0-9]{1})([0-5]{1}[0-9]{1})([0-5]{1}[0-9]{1})\\+(\\d+)\\])\\s(\\w+)/(\\d\\.\\d\\s[0-9{}]{5}\\s\\d+) (^\\\".\\\"$) (\\d+(\\.\\d+){3})'\n",
    "\n",
    "request, api, version, database, page_num, date, day, month, year, hour, minutes, seconds, timezone, domain, domain_ver, title, ip = re.search(get_re, sentence).groups()\n",
    "\n",
    "print(f'''\n",
    "request: {request}\n",
    "api:   {api}\n",
    "version:      {version}\n",
    "database: {database}\n",
    "page_num: {page_num}\n",
    "date: {date}\n",
    "day: {day}\n",
    "month: {month}\n",
    "year: {year}\n",
    "hour: {hour}\n",
    "minutes: {minutes}\n",
    "seconds: {seconds}\n",
    "timezone: {timezone}\n",
    "domain: {domain}\n",
    "domain_ver: {domain_ver}\n",
    "title: {title}\n",
    "ip: {ip}\n",
    "''')"
   ]
  },
  {
   "cell_type": "code",
   "execution_count": 307,
   "id": "d2b39d9c",
   "metadata": {},
   "outputs": [],
   "source": [
    "def extract_request(x):\n",
    "        request_type = r'^([A-Z]{3,4})(.)'\n",
    "        request, query = re.search(request_type, x).groups()\n",
    "        return request\n"
   ]
  },
  {
   "cell_type": "code",
   "execution_count": 308,
   "id": "a1e63008",
   "metadata": {},
   "outputs": [],
   "source": [
    "request = extract_request('GET /api/v1/sales?page=86 [16/Apr/2019:193452+0000] HTTP/1.1 {200} 510348 \"python-requests/2.21.0\" 97.105.19.58')"
   ]
  },
  {
   "cell_type": "code",
   "execution_count": 309,
   "id": "22287a76",
   "metadata": {},
   "outputs": [
    {
     "name": "stdout",
     "output_type": "stream",
     "text": [
      "yes\n"
     ]
    }
   ],
   "source": [
    "if request == 'GET':\n",
    "    "
   ]
  },
  {
   "cell_type": "markdown",
   "id": "6f59aaaa",
   "metadata": {},
   "source": [
    "/api/v1/sales?page=86 [16/Apr/2019:193452+0000] HTTP/1.1 {200} 510348 \"python-requests/2.21.0\" 97.105.19.58"
   ]
  },
  {
   "cell_type": "code",
   "execution_count": 371,
   "id": "3dac498c",
   "metadata": {},
   "outputs": [],
   "source": [
    "def extract__get_all(x):\n",
    "    request2 = r'(?P<request>[A-Z]{3}) /(?P<api>\\w+)/(?P<version>\\w+)/(?P<database>\\w+)\\?page\\=(?P<page_num>\\w+) \\[(?P<day>[0-3]{1}[0-9]{1})/(?P<month>\\w+)/(?P<year>\\d+)\\:(?P<time>\\d+)\\+(?P<time_zone>\\d+)\\] (?P<domain>\\w+)/(?P<domain_ip>\\d\\.\\d \\{\\d+\\} \\d+) (?P<pull>\\\"\\D+\\d\\.\\d+\\.\\d\\\") (?P<ip>\\d+\\.\\d+\\.\\d+\\.\\d+)'\n",
    "    stuff = re.search(request2, x)\n",
    "    return stuff\n",
    "\n"
   ]
  },
  {
   "cell_type": "code",
   "execution_count": 372,
   "id": "4b1d92f7",
   "metadata": {},
   "outputs": [],
   "source": [
    "stuff = extract__get_all('GET /api/v1/sales?page=86 [16/Apr/2019:193452+0000] HTTP/1.1 {200} 510348 \"python-requests/2.21.0\" 97.105.19.58')"
   ]
  },
  {
   "cell_type": "code",
   "execution_count": 373,
   "id": "ea37b92a",
   "metadata": {},
   "outputs": [
    {
     "name": "stdout",
     "output_type": "stream",
     "text": [
      "groups: ('GET', 'api', 'v1', 'sales', '86', '16', 'Apr', '2019', '193452', '0000', 'HTTP', '1.1 {200} 510348', '\"python-requests/2.21.0\"', '97.105.19.58')\n",
      "\n",
      "referencing a group by name: 97.105.19.58\n",
      "\n",
      "group dictionary: {'request': 'GET', 'api': 'api', 'version': 'v1', 'database': 'sales', 'page_num': '86', 'day': '16', 'month': 'Apr', 'year': '2019', 'time': '193452', 'time_zone': '0000', 'domain': 'HTTP', 'domain_ip': '1.1 {200} 510348', 'pull': '\"python-requests/2.21.0\"', 'ip': '97.105.19.58'}\n"
     ]
    }
   ],
   "source": [
    "print(f'''groups: {stuff.groups()}\\n\n",
    "referencing a group by name: {stuff.group('ip')}\\n\n",
    "group dictionary: {stuff.groupdict()}''')\n"
   ]
  },
  {
   "cell_type": "markdown",
   "id": "09e23ee4",
   "metadata": {},
   "source": [
    "POST /users_accounts/file-upload [16/Apr/2019:193452+0000] HTTP/1.1 {201} 42 \"User-Agent: Mozilla/5.0 (X11; Fedora; Fedora; Linux x86_64) AppleWebKit/537.36 (KHTML, like Gecko) Chrome/73.0.3683.86 Safari/537.36\" 97.105.19.58"
   ]
  },
  {
   "cell_type": "code",
   "execution_count": 420,
   "id": "0517b6c5",
   "metadata": {},
   "outputs": [],
   "source": [
    "def extract_post_all(x):\n",
    "    request_post = r'(?P<request>[A-Z]{4}) /(?P<post_location>\\w+\\_\\w+)/(?P<folder>\\w+\\-\\w+) \\[(?P<day>[0-3]{1}[0-9]{1})/(?P<month>\\w+)/(?P<year>\\d+)\\:(?P<time>\\d+)\\+(?P<time_zone>\\d+)\\] (?P<domain>\\w+)/(?P<domain_ip>\\d\\.\\d \\{\\d+\\} \\d+ \\\"\\D+\\d\\.\\d \\(\\w+\\; \\w+\\; \\w+\\; \\w+ \\w+\\_\\d+\\) \\w+/\\d+\\.\\d+ \\(\\w+\\, \\w+ \\w+\\) \\w+/\\d+\\.\\d\\.\\d+\\.\\d+ \\w+/\\d+\\.\\d+\\\") (?P<ip>\\d+\\.\\d+\\.\\d+\\.\\d+)'\n",
    "    stuff2 = re.search(request_post, x)\n",
    "    return stuff2\n",
    "    "
   ]
  },
  {
   "cell_type": "code",
   "execution_count": 421,
   "id": "2beba24b",
   "metadata": {},
   "outputs": [
    {
     "name": "stdout",
     "output_type": "stream",
     "text": [
      "groups: ('POST', 'users_accounts', 'file-upload', '16', 'Apr', '2019', '193452', '0000', 'HTTP', '1.1 {201} 42 \"User-Agent: Mozilla/5.0 (X11; Fedora; Fedora; Linux x86_64) AppleWebKit/537.36 (KHTML, like Gecko) Chrome/73.0.3683.86 Safari/537.36\"', '97.105.19.58')\n"
     ]
    }
   ],
   "source": [
    "stuff2 = extract_post_all('POST /users_accounts/file-upload [16/Apr/2019:193452+0000] HTTP/1.1 {201} 42 \"User-Agent: Mozilla/5.0 (X11; Fedora; Fedora; Linux x86_64) AppleWebKit/537.36 (KHTML, like Gecko) Chrome/73.0.3683.86 Safari/537.36\" 97.105.19.58')\n",
    "print(f'''groups: {stuff2.groups()}''')\n"
   ]
  },
  {
   "cell_type": "code",
   "execution_count": 422,
   "id": "41e9d862",
   "metadata": {},
   "outputs": [
    {
     "name": "stdout",
     "output_type": "stream",
     "text": [
      "groups: ('POST', 'users_accounts', 'file-upload', '16', 'Apr', '2019', '193452', '0000', 'HTTP', '1.1 {201} 42 \"User-Agent: Mozilla/5.0 (X11; Fedora; Fedora; Linux x86_64) AppleWebKit/537.36 (KHTML, like Gecko) Chrome/73.0.3683.86 Safari/537.36\"', '97.105.19.58')\n",
      "\n",
      "referencing a group by name: 97.105.19.58\n",
      "\n",
      "group dictionary: {'request': 'POST', 'post_location': 'users_accounts', 'folder': 'file-upload', 'day': '16', 'month': 'Apr', 'year': '2019', 'time': '193452', 'time_zone': '0000', 'domain': 'HTTP', 'domain_ip': '1.1 {201} 42 \"User-Agent: Mozilla/5.0 (X11; Fedora; Fedora; Linux x86_64) AppleWebKit/537.36 (KHTML, like Gecko) Chrome/73.0.3683.86 Safari/537.36\"', 'ip': '97.105.19.58'}\n"
     ]
    }
   ],
   "source": [
    "print(f'''groups: {stuff2.groups()}\\n\n",
    "referencing a group by name: {stuff2.group('ip')}\\n\n",
    "group dictionary: {stuff2.groupdict()}''')"
   ]
  },
  {
   "cell_type": "code",
   "execution_count": 428,
   "id": "b18f55e6",
   "metadata": {},
   "outputs": [],
   "source": [
    "def extract_final(x):\n",
    "    if extract_request(x) == 'GET':\n",
    "        extract = extract__get_all(x)\n",
    "        print(f'''groups: {extract.groups()}\\n\\nreferencing a group by name: {extract.group('ip')}\\n\\ngroup dictionary: {extract.groupdict()}''')\n",
    "        return extract\n",
    "    else:\n",
    "        extract = extract_post_all(x)\n",
    "        print(f'''groups: {extract.groups()}\\n\\nreferencing a group by name: {extract.group('ip')}\\n\\ngroup dictionary: {extract.groupdict()}''')\n",
    "        return extract\n",
    "        \n",
    "    "
   ]
  },
  {
   "cell_type": "code",
   "execution_count": 429,
   "id": "dba65d75",
   "metadata": {},
   "outputs": [
    {
     "name": "stdout",
     "output_type": "stream",
     "text": [
      "groups: ('GET', 'api', 'v1', 'sales', '86', '16', 'Apr', '2019', '193452', '0000', 'HTTP', '1.1 {200} 510348', '\"python-requests/2.21.0\"', '97.105.19.58')\n",
      "\n",
      "referencing a group by name: 97.105.19.58\n",
      "\n",
      "group dictionary: {'request': 'GET', 'api': 'api', 'version': 'v1', 'database': 'sales', 'page_num': '86', 'day': '16', 'month': 'Apr', 'year': '2019', 'time': '193452', 'time_zone': '0000', 'domain': 'HTTP', 'domain_ip': '1.1 {200} 510348', 'pull': '\"python-requests/2.21.0\"', 'ip': '97.105.19.58'}\n"
     ]
    }
   ],
   "source": [
    "extract = extract_final('GET /api/v1/sales?page=86 [16/Apr/2019:193452+0000] HTTP/1.1 {200} 510348 \"python-requests/2.21.0\" 97.105.19.58')"
   ]
  },
  {
   "cell_type": "code",
   "execution_count": 431,
   "id": "4fd731c2",
   "metadata": {},
   "outputs": [
    {
     "name": "stdout",
     "output_type": "stream",
     "text": [
      "groups: ('GET', 'api', 'v1', 'items', '3', '16', 'Apr', '2019', '193453', '0000', 'HTTP', '1.1 {429} 3561', '\"python-requests/2.21.0\"', '97.105.19.58')\n",
      "\n",
      "referencing a group by name: 97.105.19.58\n",
      "\n",
      "group dictionary: {'request': 'GET', 'api': 'api', 'version': 'v1', 'database': 'items', 'page_num': '3', 'day': '16', 'month': 'Apr', 'year': '2019', 'time': '193453', 'time_zone': '0000', 'domain': 'HTTP', 'domain_ip': '1.1 {429} 3561', 'pull': '\"python-requests/2.21.0\"', 'ip': '97.105.19.58'}\n"
     ]
    }
   ],
   "source": [
    "extract2 = extract_final('GET /api/v1/items?page=3 [16/Apr/2019:193453+0000] HTTP/1.1 {429} 3561 \"python-requests/2.21.0\" 97.105.19.58')"
   ]
  },
  {
   "cell_type": "code",
   "execution_count": 430,
   "id": "d3fbb8b2",
   "metadata": {},
   "outputs": [
    {
     "name": "stdout",
     "output_type": "stream",
     "text": [
      "groups: ('POST', 'users_accounts', 'file-upload', '16', 'Apr', '2019', '193452', '0000', 'HTTP', '1.1 {201} 42 \"User-Agent: Mozilla/5.0 (X11; Fedora; Fedora; Linux x86_64) AppleWebKit/537.36 (KHTML, like Gecko) Chrome/73.0.3683.86 Safari/537.36\"', '97.105.19.58')\n",
      "\n",
      "referencing a group by name: 97.105.19.58\n",
      "\n",
      "group dictionary: {'request': 'POST', 'post_location': 'users_accounts', 'folder': 'file-upload', 'day': '16', 'month': 'Apr', 'year': '2019', 'time': '193452', 'time_zone': '0000', 'domain': 'HTTP', 'domain_ip': '1.1 {201} 42 \"User-Agent: Mozilla/5.0 (X11; Fedora; Fedora; Linux x86_64) AppleWebKit/537.36 (KHTML, like Gecko) Chrome/73.0.3683.86 Safari/537.36\"', 'ip': '97.105.19.58'}\n"
     ]
    }
   ],
   "source": [
    "extract3 = extract_final('POST /users_accounts/file-upload [16/Apr/2019:193452+0000] HTTP/1.1 {201} 42 \"User-Agent: Mozilla/5.0 (X11; Fedora; Fedora; Linux x86_64) AppleWebKit/537.36 (KHTML, like Gecko) Chrome/73.0.3683.86 Safari/537.36\" 97.105.19.58')"
   ]
  },
  {
   "cell_type": "code",
   "execution_count": null,
   "id": "85a38cd6",
   "metadata": {},
   "outputs": [],
   "source": []
  }
 ],
 "metadata": {
  "kernelspec": {
   "display_name": "Python 3",
   "language": "python",
   "name": "python3"
  },
  "language_info": {
   "codemirror_mode": {
    "name": "ipython",
    "version": 3
   },
   "file_extension": ".py",
   "mimetype": "text/x-python",
   "name": "python",
   "nbconvert_exporter": "python",
   "pygments_lexer": "ipython3",
   "version": "3.8.8"
  }
 },
 "nbformat": 4,
 "nbformat_minor": 5
}
